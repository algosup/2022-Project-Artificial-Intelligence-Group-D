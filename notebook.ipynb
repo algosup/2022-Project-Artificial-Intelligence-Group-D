{
  "nbformat": 4,
  "nbformat_minor": 0,
  "metadata": {
    "colab": {
      "name": "AI PROJECT 5 D",
      "provenance": [],
      "collapsed_sections": []
    },
    "kernelspec": {
      "name": "python3",
      "display_name": "Python 3"
    },
    "language_info": {
      "name": "python"
    },
    "accelerator": "GPU"
  },
  "cells": [
    {
      "cell_type": "markdown",
      "source": [
        "# ALGOSUP AI PROJECT 5 D"
      ],
      "metadata": {
        "id": "elxlfFbcL2F6"
      }
    },
    {
      "cell_type": "code",
      "source": [
        "!pip install -q kaggle\n",
        "!pip install tf-nightly"
      ],
      "metadata": {
        "colab": {
          "base_uri": "https://localhost:8080/"
        },
        "id": "Nk6h99_Tyv1o",
        "outputId": "1ba8eef7-2875-4706-bfd4-6085dfa1a00f"
      },
      "execution_count": 31,
      "outputs": [
        {
          "output_type": "stream",
          "name": "stdout",
          "text": [
            "Looking in indexes: https://pypi.org/simple, https://us-python.pkg.dev/colab-wheels/public/simple/\n",
            "Requirement already satisfied: tf-nightly in /usr/local/lib/python3.7/dist-packages (2.10.0.dev20220530)\n",
            "Requirement already satisfied: flatbuffers<2,>=1.12 in /usr/local/lib/python3.7/dist-packages (from tf-nightly) (1.12)\n",
            "Requirement already satisfied: packaging in /usr/local/lib/python3.7/dist-packages (from tf-nightly) (21.3)\n",
            "Requirement already satisfied: keras-nightly~=2.10.0.dev in /usr/local/lib/python3.7/dist-packages (from tf-nightly) (2.10.0.dev2022053007)\n",
            "Requirement already satisfied: protobuf<3.20,>=3.9.2 in /usr/local/lib/python3.7/dist-packages (from tf-nightly) (3.17.3)\n",
            "Requirement already satisfied: keras-preprocessing>=1.1.1 in /usr/local/lib/python3.7/dist-packages (from tf-nightly) (1.1.2)\n",
            "Requirement already satisfied: tb-nightly~=2.10.0.a in /usr/local/lib/python3.7/dist-packages (from tf-nightly) (2.10.0a20220529)\n",
            "Requirement already satisfied: absl-py>=1.0.0 in /usr/local/lib/python3.7/dist-packages (from tf-nightly) (1.0.0)\n",
            "Requirement already satisfied: setuptools in /usr/local/lib/python3.7/dist-packages (from tf-nightly) (57.4.0)\n",
            "Requirement already satisfied: google-pasta>=0.1.1 in /usr/local/lib/python3.7/dist-packages (from tf-nightly) (0.2.0)\n",
            "Requirement already satisfied: typing-extensions>=3.6.6 in /usr/local/lib/python3.7/dist-packages (from tf-nightly) (4.2.0)\n",
            "Requirement already satisfied: numpy>=1.20 in /usr/local/lib/python3.7/dist-packages (from tf-nightly) (1.21.6)\n",
            "Requirement already satisfied: termcolor>=1.1.0 in /usr/local/lib/python3.7/dist-packages (from tf-nightly) (1.1.0)\n",
            "Requirement already satisfied: astunparse>=1.6.0 in /usr/local/lib/python3.7/dist-packages (from tf-nightly) (1.6.3)\n",
            "Requirement already satisfied: opt-einsum>=2.3.2 in /usr/local/lib/python3.7/dist-packages (from tf-nightly) (3.3.0)\n",
            "Requirement already satisfied: gast<=0.4.0,>=0.2.1 in /usr/local/lib/python3.7/dist-packages (from tf-nightly) (0.4.0)\n",
            "Requirement already satisfied: tensorflow-io-gcs-filesystem>=0.23.1 in /usr/local/lib/python3.7/dist-packages (from tf-nightly) (0.26.0)\n",
            "Requirement already satisfied: h5py>=2.9.0 in /usr/local/lib/python3.7/dist-packages (from tf-nightly) (3.1.0)\n",
            "Requirement already satisfied: six>=1.12.0 in /usr/local/lib/python3.7/dist-packages (from tf-nightly) (1.15.0)\n",
            "Requirement already satisfied: grpcio<2.0,>=1.24.3 in /usr/local/lib/python3.7/dist-packages (from tf-nightly) (1.46.1)\n",
            "Requirement already satisfied: libclang>=13.0.0 in /usr/local/lib/python3.7/dist-packages (from tf-nightly) (14.0.1)\n",
            "Requirement already satisfied: wrapt>=1.11.0 in /usr/local/lib/python3.7/dist-packages (from tf-nightly) (1.14.1)\n",
            "Requirement already satisfied: tf-estimator-nightly~=2.10.0.dev in /usr/local/lib/python3.7/dist-packages (from tf-nightly) (2.10.0.dev2022053008)\n",
            "Requirement already satisfied: wheel<1.0,>=0.23.0 in /usr/local/lib/python3.7/dist-packages (from astunparse>=1.6.0->tf-nightly) (0.37.1)\n",
            "Requirement already satisfied: cached-property in /usr/local/lib/python3.7/dist-packages (from h5py>=2.9.0->tf-nightly) (1.5.2)\n",
            "Requirement already satisfied: markdown>=2.6.8 in /usr/local/lib/python3.7/dist-packages (from tb-nightly~=2.10.0.a->tf-nightly) (3.3.7)\n",
            "Requirement already satisfied: requests<3,>=2.21.0 in /usr/local/lib/python3.7/dist-packages (from tb-nightly~=2.10.0.a->tf-nightly) (2.23.0)\n",
            "Requirement already satisfied: google-auth<3,>=1.6.3 in /usr/local/lib/python3.7/dist-packages (from tb-nightly~=2.10.0.a->tf-nightly) (1.35.0)\n",
            "Requirement already satisfied: google-auth-oauthlib<0.5,>=0.4.1 in /usr/local/lib/python3.7/dist-packages (from tb-nightly~=2.10.0.a->tf-nightly) (0.4.6)\n",
            "Requirement already satisfied: werkzeug>=1.0.1 in /usr/local/lib/python3.7/dist-packages (from tb-nightly~=2.10.0.a->tf-nightly) (1.0.1)\n",
            "Requirement already satisfied: tensorboard-data-server<0.7.0,>=0.6.0 in /usr/local/lib/python3.7/dist-packages (from tb-nightly~=2.10.0.a->tf-nightly) (0.6.1)\n",
            "Requirement already satisfied: tensorboard-plugin-wit>=1.6.0 in /usr/local/lib/python3.7/dist-packages (from tb-nightly~=2.10.0.a->tf-nightly) (1.8.1)\n",
            "Requirement already satisfied: pyasn1-modules>=0.2.1 in /usr/local/lib/python3.7/dist-packages (from google-auth<3,>=1.6.3->tb-nightly~=2.10.0.a->tf-nightly) (0.2.8)\n",
            "Requirement already satisfied: rsa<5,>=3.1.4 in /usr/local/lib/python3.7/dist-packages (from google-auth<3,>=1.6.3->tb-nightly~=2.10.0.a->tf-nightly) (4.8)\n",
            "Requirement already satisfied: cachetools<5.0,>=2.0.0 in /usr/local/lib/python3.7/dist-packages (from google-auth<3,>=1.6.3->tb-nightly~=2.10.0.a->tf-nightly) (4.2.4)\n",
            "Requirement already satisfied: requests-oauthlib>=0.7.0 in /usr/local/lib/python3.7/dist-packages (from google-auth-oauthlib<0.5,>=0.4.1->tb-nightly~=2.10.0.a->tf-nightly) (1.3.1)\n",
            "Requirement already satisfied: importlib-metadata>=4.4 in /usr/local/lib/python3.7/dist-packages (from markdown>=2.6.8->tb-nightly~=2.10.0.a->tf-nightly) (4.11.3)\n",
            "Requirement already satisfied: zipp>=0.5 in /usr/local/lib/python3.7/dist-packages (from importlib-metadata>=4.4->markdown>=2.6.8->tb-nightly~=2.10.0.a->tf-nightly) (3.8.0)\n",
            "Requirement already satisfied: pyasn1<0.5.0,>=0.4.6 in /usr/local/lib/python3.7/dist-packages (from pyasn1-modules>=0.2.1->google-auth<3,>=1.6.3->tb-nightly~=2.10.0.a->tf-nightly) (0.4.8)\n",
            "Requirement already satisfied: chardet<4,>=3.0.2 in /usr/local/lib/python3.7/dist-packages (from requests<3,>=2.21.0->tb-nightly~=2.10.0.a->tf-nightly) (3.0.4)\n",
            "Requirement already satisfied: certifi>=2017.4.17 in /usr/local/lib/python3.7/dist-packages (from requests<3,>=2.21.0->tb-nightly~=2.10.0.a->tf-nightly) (2022.5.18.1)\n",
            "Requirement already satisfied: idna<3,>=2.5 in /usr/local/lib/python3.7/dist-packages (from requests<3,>=2.21.0->tb-nightly~=2.10.0.a->tf-nightly) (2.10)\n",
            "Requirement already satisfied: urllib3!=1.25.0,!=1.25.1,<1.26,>=1.21.1 in /usr/local/lib/python3.7/dist-packages (from requests<3,>=2.21.0->tb-nightly~=2.10.0.a->tf-nightly) (1.24.3)\n",
            "Requirement already satisfied: oauthlib>=3.0.0 in /usr/local/lib/python3.7/dist-packages (from requests-oauthlib>=0.7.0->google-auth-oauthlib<0.5,>=0.4.1->tb-nightly~=2.10.0.a->tf-nightly) (3.2.0)\n",
            "Requirement already satisfied: pyparsing!=3.0.5,>=2.0.2 in /usr/local/lib/python3.7/dist-packages (from packaging->tf-nightly) (3.0.9)\n"
          ]
        }
      ]
    },
    {
      "cell_type": "code",
      "execution_count": null,
      "metadata": {
        "id": "Hybc_NwETw3h"
      },
      "outputs": [],
      "source": [
        "import tensorflow\n",
        "import pandas\n",
        "import numpy\n",
        "import librosa\n",
        "import os\n",
        "\n",
        "import matplotlib.pyplot\n",
        "\n",
        "from tensorflow import keras\n",
        "from sklearn.model_selection import train_test_split\n",
        "from typing import Union, Tuple\n",
        "from google.colab import files"
      ]
    },
    {
      "cell_type": "code",
      "source": [
        "files.upload()"
      ],
      "metadata": {
        "id": "o1GXTVOn48cY"
      },
      "execution_count": null,
      "outputs": []
    },
    {
      "cell_type": "code",
      "source": [
        "!mkdir -p ~/.kaggle\n",
        "!cp kaggle.json ~/.kaggle/\n",
        "  \n",
        "!chmod 600 ~/.kaggle/kaggle.json"
      ],
      "metadata": {
        "id": "MJNNhHPo5SY1"
      },
      "execution_count": 4,
      "outputs": []
    },
    {
      "cell_type": "code",
      "source": [
        "!kaggle datasets list -s \"CommonVoice Langage\"\n",
        "!kaggle datasets download -d olmatz/commonvoice-langage\n",
        "!unzip commonvoice-langage.zip\n",
        "!rm -rf commonvoice-langage.zip\n",
        "!rm -rf \"dataset/train/chinese\"\n",
        "!rm -rf \"dataset/train/german\"\n",
        "!rm -rf \"dataset/train/italian\"\n",
        "!rm -rf \"dataset/train/spanish\"\n",
        "!rm -rf \"dataset/validation/chinese\"\n",
        "!rm -rf \"dataset/validation/german\"\n",
        "!rm -rf \"dataset/validation/italian\"\n",
        "!rm -rf \"dataset/validation/spanish\""
      ],
      "metadata": {
        "id": "9wk7i3wc_kCH"
      },
      "execution_count": null,
      "outputs": []
    },
    {
      "cell_type": "code",
      "source": [
        "datapath = \"dataset/\"\n",
        "\n",
        "# doc: https://www.tensorflow.org/api_docs/python/tf/keras/utils/audio_dataset_from_directory\n",
        "train_ds = keras.utils.audio_dataset_from_directory(\n",
        "    datapath+\"train\",\n",
        "    validation_split=0.2,\n",
        "    subset=\"training\",\n",
        "    seed=123,\n",
        "    #output_sequence_length=None, # 64000\n",
        "    batch_size=32\n",
        ")\n",
        "\n",
        "test_ds = keras.utils.audio_dataset_from_directory(\n",
        "    datapath+\"validation\",\n",
        "    validation_split=0.2,\n",
        "    subset=\"validation\",\n",
        "    seed=123,\n",
        "    #output_sequence_length=None, # 64000\n",
        "    batch_size=32\n",
        ")"
      ],
      "metadata": {
        "colab": {
          "base_uri": "https://localhost:8080/"
        },
        "id": "zuUBIgXFC-TH",
        "outputId": "3f95efdc-4433-48c2-d260-023c1206b82c"
      },
      "execution_count": 43,
      "outputs": [
        {
          "output_type": "stream",
          "name": "stdout",
          "text": [
            "Found 28110 files belonging to 2 classes.\n",
            "Using 22488 files for training.\n",
            "Found 7029 files belonging to 2 classes.\n",
            "Using 1405 files for validation.\n"
          ]
        }
      ]
    },
    {
      "cell_type": "code",
      "source": [
        "class_names = train_ds.class_names\n",
        "\n",
        "for images, labels in train_ds.take(1):\n",
        "  for i, image in enumerate(images):\n",
        "    print(image.shape, class_names[labels[i]])"
      ],
      "metadata": {
        "colab": {
          "base_uri": "https://localhost:8080/"
        },
        "id": "2pX0GqQZ1Rof",
        "outputId": "b5d81bd2-e899-44a9-f489-2465fd26623a"
      },
      "execution_count": 44,
      "outputs": [
        {
          "output_type": "stream",
          "name": "stdout",
          "text": [
            "(64000, 1) french\n",
            "(64000, 1) french\n",
            "(64000, 1) french\n",
            "(64000, 1) french\n",
            "(64000, 1) english\n",
            "(64000, 1) english\n",
            "(64000, 1) french\n",
            "(64000, 1) french\n",
            "(64000, 1) english\n",
            "(64000, 1) french\n",
            "(64000, 1) english\n",
            "(64000, 1) english\n",
            "(64000, 1) french\n",
            "(64000, 1) french\n",
            "(64000, 1) french\n",
            "(64000, 1) english\n",
            "(64000, 1) french\n",
            "(64000, 1) french\n",
            "(64000, 1) english\n",
            "(64000, 1) french\n",
            "(64000, 1) english\n",
            "(64000, 1) english\n",
            "(64000, 1) english\n",
            "(64000, 1) english\n",
            "(64000, 1) english\n",
            "(64000, 1) french\n",
            "(64000, 1) english\n",
            "(64000, 1) french\n",
            "(64000, 1) french\n",
            "(64000, 1) french\n",
            "(64000, 1) english\n",
            "(64000, 1) english\n"
          ]
        }
      ]
    },
    {
      "cell_type": "code",
      "source": [
        "keras.backend.clear_session()"
      ],
      "metadata": {
        "id": "6kjiMPK81HGi"
      },
      "execution_count": 45,
      "outputs": []
    },
    {
      "cell_type": "markdown",
      "source": [
        "#### IN PROGRESS.."
      ],
      "metadata": {
        "id": "f4DcpGqmNop0"
      }
    },
    {
      "cell_type": "code",
      "source": [
        "model = keras.Sequential([\n",
        "            keras.layers.Conv2D(16, (3, 3), activation=\"relu\", input_shape=(64000, 1)),\n",
        "            keras.layers.MaxPooling2D(2, 2),\n",
        "            keras.layers.Conv2D(32, (3, 3), activation=\"relu\"),\n",
        "            keras.layers.MaxPooling2D(2, 2),\n",
        "            keras.layers.Conv2D(64, (3, 3), activation=\"relu\"),\n",
        "            keras.layers.Flatten(),\n",
        "            keras.layers.Dropout(0.5),\n",
        "            keras.layers.Dense(512, activation='relu'),\n",
        "            keras.layers.Dense(1, activation='sigmoid')\n",
        "])\n",
        "\n",
        "model.compile(optimizer = \"adam\",\n",
        "                    loss=\"binary_crossentropy\",\n",
        "                    metrics=[\"accuracy\"])\n",
        "\n",
        "model.summary()"
      ],
      "metadata": {
        "id": "wonp75Fx1DrB"
      },
      "execution_count": null,
      "outputs": []
    },
    {
      "cell_type": "code",
      "source": [
        "model.fit(train_ds,\n",
        "          validation_data=test_ds, epochs=5)\n"
      ],
      "metadata": {
        "id": "4T0JbQ4u2CYz"
      },
      "execution_count": null,
      "outputs": []
    },
    {
      "cell_type": "code",
      "source": [
        "SAMPLE_SIZE = 20 # in seconds"
      ],
      "metadata": {
        "id": "czYbUr3YV-yr"
      },
      "execution_count": 5,
      "outputs": []
    },
    {
      "cell_type": "code",
      "source": [
        "def load_and_trim(path: str, min_db: int = 20) -> Tuple[numpy.ndarray, int]:\n",
        "  \"\"\"Load a sound from a path and trim his content\"\"\"\n",
        "  sound_array, samplerate = librosa.core.load(path)\n",
        "  trim, _ = librosa.effects.trim(sound_array, top_db=min_db)\n",
        "\n",
        "  return trim, samplerate\n",
        "\n",
        "def frame_sound(sound: numpy.ndarray, sample_rate: int, sample_size: Union[float, int] = 20) -> numpy.ndarray:\n",
        "  \"\"\"Return few sample from the sound of size `sample_size`\"\"\"\n",
        "  return librosa.util.frame(\n",
        "    sound,\n",
        "    frame_length=sample_rate * sample_size,\n",
        "    hop_length=sample_rate * sample_size,\n",
        "    axis=0\n",
        "  )"
      ],
      "metadata": {
        "id": "VKPii6eCvkKM"
      },
      "execution_count": null,
      "outputs": []
    },
    {
      "cell_type": "code",
      "source": [
        "train_path = os.path.join(datapath, \"train\")\n",
        "test_path = os.path.join(datapath, \"test\")\n",
        "\n",
        "EN_train_path = os.path.join(train_path, \"EN_train.wav\")\n",
        "FR_train_path = os.path.join(train_path, \"FR_train.wav\")"
      ],
      "metadata": {
        "id": "kge8kCFjZyZO"
      },
      "execution_count": null,
      "outputs": []
    },
    {
      "cell_type": "code",
      "source": [
        "EN_data = frame_sound(*load_and_trim(EN_train_path), SAMPLE_SIZE)\n",
        "FR_data = frame_sound(*load_and_trim(FR_train_path), SAMPLE_SIZE)\n",
        "\n",
        "EN_data = EN_data[:13]\n",
        "\n",
        "for en, fr in zip(EN_data, FR_data):\n",
        "  if not len(en) == len(fr):\n",
        "    raise ValueError()\n",
        "\n",
        "print(EN_data.shape, FR_data.shape)"
      ],
      "metadata": {
        "colab": {
          "base_uri": "https://localhost:8080/"
        },
        "id": "6CxC5euFfKES",
        "outputId": "b0744ace-d489-4126-b237-57c9def171b7"
      },
      "execution_count": null,
      "outputs": [
        {
          "output_type": "stream",
          "name": "stdout",
          "text": [
            "(13, 441000) (13, 441000)\n"
          ]
        }
      ]
    },
    {
      "cell_type": "code",
      "source": [
        "X = numpy.concatenate((EN_data, FR_data))\n",
        "a = numpy.array([1 for _ in range(len(FR_data))])\n",
        "b = numpy.array([2 for _ in range(len(FR_data))])\n",
        "Y = numpy.concatenate((a,b))\n",
        "\n",
        "targets = keras.utils.to_categorical(Y - 1, 2)\n",
        "\n",
        "print(X.shape, Y.shape)\n",
        "print(X)"
      ],
      "metadata": {
        "id": "BvX0X1RImvEU"
      },
      "execution_count": null,
      "outputs": []
    },
    {
      "cell_type": "code",
      "source": [
        "x_train, x_test, y_train, y_test = train_test_split(X, targets, test_size=0.1, random_state=42)\n",
        "\n",
        "print(f\"XTrain:{len(x_train)} {x_train.shape}, XTest:{len(x_test)}, YTrain{len(y_train)}, YTest{len(y_test)}\")"
      ],
      "metadata": {
        "colab": {
          "base_uri": "https://localhost:8080/"
        },
        "id": "7Kv20tvOmKPP",
        "outputId": "b7fe5164-3a50-46f6-d71b-c553848c4dfb"
      },
      "execution_count": null,
      "outputs": [
        {
          "output_type": "stream",
          "name": "stdout",
          "text": [
            "XTrain:23 (23, 441000), XTest:3, YTrain23, YTest3\n"
          ]
        }
      ]
    },
    {
      "cell_type": "code",
      "source": [
        "keras.backend.clear_session()"
      ],
      "metadata": {
        "id": "owTeBvx8QwGb"
      },
      "execution_count": null,
      "outputs": []
    },
    {
      "cell_type": "code",
      "source": [
        "from keras.layers import Dense, Activation, Flatten, Dropout, MaxPooling1D, Conv1D, Reshape\n",
        "\n",
        "model = keras.models.Sequential([\n",
        "                  keras.layers.Dense(units = 1024),\n",
        "                  keras.layers.Dense(units = 1024),\n",
        "                  keras.layers.Dense(units = 2048),\n",
        "                  keras.layers.Dense(units = 2048),\n",
        "                  keras.layers.Dense(units = 1024, activation = 'relu'),\n",
        "                  keras.layers.Dense(units = 512, activation = 'relu'),\n",
        "                  keras.layers.Dropout(0.5),\n",
        "                  keras.layers.Dense(units = 2, activation = 'softmax')                     \n",
        "])\n",
        "\n",
        "loss_func = keras.losses.CategoricalCrossentropy()\n",
        "model.compile(optimizer=\"adam\", loss=loss_func, metrics=[\"accuracy\"])\n",
        "\n",
        "model.summary()"
      ],
      "metadata": {
        "id": "-HjAOu1rQw4K"
      },
      "execution_count": null,
      "outputs": []
    },
    {
      "cell_type": "code",
      "source": [
        "model.fit(x_train, y_train, epochs=25)"
      ],
      "metadata": {
        "id": "PQ55ixFeTFDz"
      },
      "execution_count": null,
      "outputs": []
    }
  ]
}